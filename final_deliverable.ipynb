{
 "cells": [
  {
   "cell_type": "code",
   "execution_count": 79,
   "id": "5a568ff5",
   "metadata": {},
   "outputs": [],
   "source": [
    "# Load libraries\n",
    "from pandas import read_csv\n",
    "import sklearn\n",
    "from pandas.plotting import scatter_matrix\n",
    "from matplotlib import pyplot\n",
    "from sklearn.model_selection import train_test_split\n",
    "from sklearn.model_selection import cross_val_score\n",
    "from sklearn.metrics import classification_report\n",
    "from catboost import CatBoostRegressor\n",
    "from sklearn.metrics import accuracy_score\n",
    "from sklearn.neighbors import KNeighborsRegressor\n",
    "from sklearn.linear_model import LinearRegression\n",
    "from sklearn.ensemble import RandomForestRegressor\n",
    "from sklearn.svm import SVR\n",
    "from sklearn.model_selection import GridSearchCV\n",
    "from sklearn.metrics import r2_score\n",
    "import numpy as np\n",
    "import pandas as pd\n",
    "import xgboost as xgb\n",
    "from sklearn.metrics import mean_squared_error\n",
    "import tensorflow as tf\n",
    "from sklearn.model_selection import StratifiedKFold\n",
    "import matplotlib.pyplot as plt"
   ]
  },
  {
   "cell_type": "code",
   "execution_count": 2,
   "id": "b7ea7fef",
   "metadata": {},
   "outputs": [],
   "source": [
    "df = pd.read_pickle(\"./finalDF.pkl\")"
   ]
  },
  {
   "cell_type": "code",
   "execution_count": 3,
   "id": "073324fd",
   "metadata": {},
   "outputs": [
    {
     "data": {
      "text/plain": [
       "0    147.8\n",
       "1    120.2\n",
       "2    115.2\n",
       "3    191.3\n",
       "4     92.2\n",
       "Name: price, dtype: float64"
      ]
     },
     "execution_count": 3,
     "metadata": {},
     "output_type": "execute_result"
    }
   ],
   "source": [
    "y = df['price'].astype('float64')\n",
    "y = y.round(1)\n",
    "y[:5]"
   ]
  },
  {
   "cell_type": "code",
   "execution_count": 4,
   "id": "f6ea9b3c",
   "metadata": {
    "scrolled": false
   },
   "outputs": [
    {
     "data": {
      "text/html": [
       "<div>\n",
       "<style scoped>\n",
       "    .dataframe tbody tr th:only-of-type {\n",
       "        vertical-align: middle;\n",
       "    }\n",
       "\n",
       "    .dataframe tbody tr th {\n",
       "        vertical-align: top;\n",
       "    }\n",
       "\n",
       "    .dataframe thead th {\n",
       "        text-align: right;\n",
       "    }\n",
       "</style>\n",
       "<table border=\"1\" class=\"dataframe\">\n",
       "  <thead>\n",
       "    <tr style=\"text-align: right;\">\n",
       "      <th></th>\n",
       "      <th>year</th>\n",
       "      <th>distance</th>\n",
       "      <th>Origin_ATL</th>\n",
       "      <th>Origin_BNA</th>\n",
       "      <th>Origin_BOS</th>\n",
       "      <th>Origin_BWI</th>\n",
       "      <th>Origin_CLT</th>\n",
       "      <th>Origin_DAL</th>\n",
       "      <th>Origin_DCA</th>\n",
       "      <th>Origin_DEN</th>\n",
       "      <th>...</th>\n",
       "      <th>Month_Feb</th>\n",
       "      <th>Month_Jan</th>\n",
       "      <th>Month_Jul</th>\n",
       "      <th>Month_Jun</th>\n",
       "      <th>Month_Mar</th>\n",
       "      <th>Month_May</th>\n",
       "      <th>Month_Nov</th>\n",
       "      <th>Month_Oct</th>\n",
       "      <th>Month_Sep</th>\n",
       "      <th>Month_nan</th>\n",
       "    </tr>\n",
       "  </thead>\n",
       "  <tbody>\n",
       "    <tr>\n",
       "      <th>0</th>\n",
       "      <td>2020.0</td>\n",
       "      <td>214.0</td>\n",
       "      <td>1.0</td>\n",
       "      <td>0.0</td>\n",
       "      <td>0.0</td>\n",
       "      <td>0.0</td>\n",
       "      <td>0.0</td>\n",
       "      <td>0.0</td>\n",
       "      <td>0.0</td>\n",
       "      <td>0.0</td>\n",
       "      <td>...</td>\n",
       "      <td>0.0</td>\n",
       "      <td>0.0</td>\n",
       "      <td>0.0</td>\n",
       "      <td>0.0</td>\n",
       "      <td>0.0</td>\n",
       "      <td>0.0</td>\n",
       "      <td>1.0</td>\n",
       "      <td>0.0</td>\n",
       "      <td>0.0</td>\n",
       "      <td>0.0</td>\n",
       "    </tr>\n",
       "    <tr>\n",
       "      <th>1</th>\n",
       "      <td>2020.0</td>\n",
       "      <td>214.0</td>\n",
       "      <td>1.0</td>\n",
       "      <td>0.0</td>\n",
       "      <td>0.0</td>\n",
       "      <td>0.0</td>\n",
       "      <td>0.0</td>\n",
       "      <td>0.0</td>\n",
       "      <td>0.0</td>\n",
       "      <td>0.0</td>\n",
       "      <td>...</td>\n",
       "      <td>0.0</td>\n",
       "      <td>0.0</td>\n",
       "      <td>0.0</td>\n",
       "      <td>0.0</td>\n",
       "      <td>0.0</td>\n",
       "      <td>0.0</td>\n",
       "      <td>0.0</td>\n",
       "      <td>0.0</td>\n",
       "      <td>0.0</td>\n",
       "      <td>0.0</td>\n",
       "    </tr>\n",
       "    <tr>\n",
       "      <th>2</th>\n",
       "      <td>2020.0</td>\n",
       "      <td>214.0</td>\n",
       "      <td>1.0</td>\n",
       "      <td>0.0</td>\n",
       "      <td>0.0</td>\n",
       "      <td>0.0</td>\n",
       "      <td>0.0</td>\n",
       "      <td>0.0</td>\n",
       "      <td>0.0</td>\n",
       "      <td>0.0</td>\n",
       "      <td>...</td>\n",
       "      <td>0.0</td>\n",
       "      <td>0.0</td>\n",
       "      <td>0.0</td>\n",
       "      <td>0.0</td>\n",
       "      <td>0.0</td>\n",
       "      <td>0.0</td>\n",
       "      <td>0.0</td>\n",
       "      <td>0.0</td>\n",
       "      <td>0.0</td>\n",
       "      <td>0.0</td>\n",
       "    </tr>\n",
       "    <tr>\n",
       "      <th>3</th>\n",
       "      <td>2020.0</td>\n",
       "      <td>214.0</td>\n",
       "      <td>1.0</td>\n",
       "      <td>0.0</td>\n",
       "      <td>0.0</td>\n",
       "      <td>0.0</td>\n",
       "      <td>0.0</td>\n",
       "      <td>0.0</td>\n",
       "      <td>0.0</td>\n",
       "      <td>0.0</td>\n",
       "      <td>...</td>\n",
       "      <td>0.0</td>\n",
       "      <td>0.0</td>\n",
       "      <td>0.0</td>\n",
       "      <td>0.0</td>\n",
       "      <td>0.0</td>\n",
       "      <td>0.0</td>\n",
       "      <td>0.0</td>\n",
       "      <td>0.0</td>\n",
       "      <td>0.0</td>\n",
       "      <td>0.0</td>\n",
       "    </tr>\n",
       "    <tr>\n",
       "      <th>4</th>\n",
       "      <td>2021.0</td>\n",
       "      <td>214.0</td>\n",
       "      <td>1.0</td>\n",
       "      <td>0.0</td>\n",
       "      <td>0.0</td>\n",
       "      <td>0.0</td>\n",
       "      <td>0.0</td>\n",
       "      <td>0.0</td>\n",
       "      <td>0.0</td>\n",
       "      <td>0.0</td>\n",
       "      <td>...</td>\n",
       "      <td>0.0</td>\n",
       "      <td>1.0</td>\n",
       "      <td>0.0</td>\n",
       "      <td>0.0</td>\n",
       "      <td>0.0</td>\n",
       "      <td>0.0</td>\n",
       "      <td>0.0</td>\n",
       "      <td>0.0</td>\n",
       "      <td>0.0</td>\n",
       "      <td>0.0</td>\n",
       "    </tr>\n",
       "  </tbody>\n",
       "</table>\n",
       "<p>5 rows × 77 columns</p>\n",
       "</div>"
      ],
      "text/plain": [
       "     year  distance  Origin_ATL  Origin_BNA  Origin_BOS  Origin_BWI  \\\n",
       "0  2020.0     214.0         1.0         0.0         0.0         0.0   \n",
       "1  2020.0     214.0         1.0         0.0         0.0         0.0   \n",
       "2  2020.0     214.0         1.0         0.0         0.0         0.0   \n",
       "3  2020.0     214.0         1.0         0.0         0.0         0.0   \n",
       "4  2021.0     214.0         1.0         0.0         0.0         0.0   \n",
       "\n",
       "   Origin_CLT  Origin_DAL  Origin_DCA  Origin_DEN  ...  Month_Feb  Month_Jan  \\\n",
       "0         0.0         0.0         0.0         0.0  ...        0.0        0.0   \n",
       "1         0.0         0.0         0.0         0.0  ...        0.0        0.0   \n",
       "2         0.0         0.0         0.0         0.0  ...        0.0        0.0   \n",
       "3         0.0         0.0         0.0         0.0  ...        0.0        0.0   \n",
       "4         0.0         0.0         0.0         0.0  ...        0.0        1.0   \n",
       "\n",
       "   Month_Jul  Month_Jun  Month_Mar  Month_May  Month_Nov  Month_Oct  \\\n",
       "0        0.0        0.0        0.0        0.0        1.0        0.0   \n",
       "1        0.0        0.0        0.0        0.0        0.0        0.0   \n",
       "2        0.0        0.0        0.0        0.0        0.0        0.0   \n",
       "3        0.0        0.0        0.0        0.0        0.0        0.0   \n",
       "4        0.0        0.0        0.0        0.0        0.0        0.0   \n",
       "\n",
       "   Month_Sep  Month_nan  \n",
       "0        0.0        0.0  \n",
       "1        0.0        0.0  \n",
       "2        0.0        0.0  \n",
       "3        0.0        0.0  \n",
       "4        0.0        0.0  \n",
       "\n",
       "[5 rows x 77 columns]"
      ]
     },
     "execution_count": 4,
     "metadata": {},
     "output_type": "execute_result"
    }
   ],
   "source": [
    "X = df.drop(columns=['price'])\n",
    "X = X.astype(\"float64\")\n",
    "X.head(5)"
   ]
  },
  {
   "cell_type": "code",
   "execution_count": 5,
   "id": "4016430e",
   "metadata": {},
   "outputs": [],
   "source": [
    "X_train, X_test, Y_train, Y_test = train_test_split(X, y, test_size=0.2)"
   ]
  },
  {
   "cell_type": "code",
   "execution_count": 6,
   "id": "f3974367",
   "metadata": {},
   "outputs": [],
   "source": [
    "data_dmatrix = xgb.DMatrix(data=X,label=y)"
   ]
  },
  {
   "cell_type": "code",
   "execution_count": 7,
   "id": "b0c5c3a7",
   "metadata": {},
   "outputs": [
    {
     "name": "stdout",
     "output_type": "stream",
     "text": [
      "X_train.shape =  (13432, 77)\n",
      "Y_train.shape =  (13432,)\n",
      "X_test.shape =  (3358, 77)\n",
      "Y_test.shape =  (3358,)\n"
     ]
    }
   ],
   "source": [
    "print('X_train.shape = ', X_train.shape)\n",
    "print('Y_train.shape = ', Y_train.shape)\n",
    "print('X_test.shape = ', X_test.shape)\n",
    "print('Y_test.shape = ', Y_test.shape)"
   ]
  },
  {
   "cell_type": "code",
   "execution_count": 8,
   "id": "7623f004",
   "metadata": {},
   "outputs": [],
   "source": [
    "#KNN\n",
    "#SVR - Mine\n",
    "#XGBoost - Mine\n",
    "#CatBoost"
   ]
  },
  {
   "cell_type": "code",
   "execution_count": 9,
   "id": "8e5525e3",
   "metadata": {},
   "outputs": [],
   "source": [
    "# parameters = {'kernel':('linear', 'rbf'), 'C':[1, 10], 'epsilon':[0.1, 0.9]}\n",
    "# svr = SVR()\n",
    "# clf = GridSearchCV(svr, parameters)\n",
    "# clf.fit(X_train, Y_train)\n",
    "# sorted(clf.cv_results_.keys())"
   ]
  },
  {
   "cell_type": "code",
   "execution_count": 10,
   "id": "19f16773",
   "metadata": {},
   "outputs": [],
   "source": [
    "# clf.best_params_"
   ]
  },
  {
   "cell_type": "code",
   "execution_count": 11,
   "id": "0bb2a77d",
   "metadata": {},
   "outputs": [],
   "source": [
    "# param_grid = { \n",
    "#     'n_es  timators': [100, 500],\n",
    "#     'max_features': ['auto', 'sqrt', 'log2'],\n",
    "#     'criterion' :['squared_error', 'absolute_error', 'poisson']\n",
    "# }"
   ]
  },
  {
   "cell_type": "code",
   "execution_count": 12,
   "id": "2b08d488",
   "metadata": {},
   "outputs": [],
   "source": [
    "# rf = RandomForestRegressor(random_state = 42)\n",
    "# CV_rf = GridSearchCV(estimator=rf, param_grid=param_grid, cv=5)\n",
    "# CV_rf.fit(X_train, Y_train)"
   ]
  },
  {
   "cell_type": "code",
   "execution_count": 13,
   "id": "41c02654",
   "metadata": {},
   "outputs": [],
   "source": [
    "# CV_rf.best_params_"
   ]
  },
  {
   "cell_type": "code",
   "execution_count": 14,
   "id": "2d95496a",
   "metadata": {},
   "outputs": [],
   "source": [
    "# param_grid = [\n",
    "#     # trying learning rates from 0.01 to 0.2\n",
    "#     {'eta':[0.01, 0.05, 0.1, 0.2]},\n",
    "#     # and max depth from 4 to 10\n",
    "#     {'max_depth': [4, 6, 8, 10]}\n",
    "#   ]\n",
    "\n",
    "# xgb_model = xgb.XGBRegressor(random_state = 0)\n",
    "\n",
    "# grid_search = GridSearchCV(xgb_model, param_grid, cv=5,\n",
    "#                            scoring='r2',\n",
    "#                            return_train_score=True)\n",
    "\n",
    "# grid_search.fit(X_train, Y_train)"
   ]
  },
  {
   "cell_type": "code",
   "execution_count": 15,
   "id": "8ed9825e",
   "metadata": {},
   "outputs": [],
   "source": [
    "# grid_search.best_params_"
   ]
  },
  {
   "cell_type": "code",
   "execution_count": 132,
   "id": "6c047f2f",
   "metadata": {},
   "outputs": [],
   "source": [
    "models = []\n",
    "models.append(('LR', LinearRegression()))\n",
    "models.append(('RF', RandomForestRegressor()))\n",
    "models.append(('SVR', SVR(kernel='rbf')))\n",
    "models.append(('XGBoost', xgb.XGBRegressor(objective ='reg:squarederror', colsample_bytree = 0.3, learning_rate = 0.3, alpha = 10)))\n",
    "models.append(('KNN', KNeighborsRegressor(n_neighbors=15)))\n",
    "models.append(('CatBoost', CatBoostRegressor(iterations=75, learning_rate=0.3, loss_function='RMSE', silent=True)))"
   ]
  },
  {
   "cell_type": "code",
   "execution_count": 133,
   "id": "556fc11e",
   "metadata": {},
   "outputs": [
    {
     "name": "stdout",
     "output_type": "stream",
     "text": [
      "LR: 0.124786 (0.006445)\n",
      "RF: 0.233230 (0.043029)\n",
      "SVR: -0.015443 (0.006247)\n",
      "XGBoost: 0.319615 (0.085671)\n",
      "KNN: 0.170660 (0.041312)\n",
      "CatBoost: 0.290188 (0.029181)\n"
     ]
    }
   ],
   "source": [
    "results = []\n",
    "names = []\n",
    "for name, model in models:\n",
    "\tcv_results = cross_val_score(model, X_train, Y_train, scoring='r2')\n",
    "\tresults.append(cv_results)\n",
    "\tnames.append(name)\n",
    "\tprint('%s: %f (%f)' % (name, cv_results.mean(), cv_results.std()))"
   ]
  },
  {
   "cell_type": "code",
   "execution_count": 19,
   "id": "b8aef991",
   "metadata": {},
   "outputs": [],
   "source": [
    "# data_dmatrix = xgb.DMatrix(data=X,label=y)"
   ]
  },
  {
   "cell_type": "code",
   "execution_count": 20,
   "id": "c57ae2e3",
   "metadata": {},
   "outputs": [],
   "source": [
    "# xg_reg = xgb.XGBRegressor(objective ='reg:squarederror', colsample_bytree = 0.3, learning_rate = 0.1,\n",
    "#                 max_depth = 50, alpha = 10, n_estimators = 100)"
   ]
  },
  {
   "cell_type": "code",
   "execution_count": 21,
   "id": "0fc12df0",
   "metadata": {},
   "outputs": [],
   "source": [
    "# xg_reg.fit(X_train,y_train)\n",
    "\n",
    "# preds = xg_reg.predict(X_test)"
   ]
  },
  {
   "cell_type": "code",
   "execution_count": 22,
   "id": "c3b2171d",
   "metadata": {},
   "outputs": [],
   "source": [
    "# rmse = np.sqrt(mean_squared_error(y_test, preds))\n",
    "# print(\"RMSE: %f\" % (rmse))"
   ]
  },
  {
   "cell_type": "code",
   "execution_count": 23,
   "id": "e0b2163c",
   "metadata": {},
   "outputs": [],
   "source": [
    "# params = {\"objective\":\"reg:squarederror\",'colsample_bytree': 0.3,'learning_rate': 0.1,\n",
    "#                 'max_depth': 5, 'alpha': 10}"
   ]
  },
  {
   "cell_type": "code",
   "execution_count": 24,
   "id": "af68d845",
   "metadata": {},
   "outputs": [],
   "source": [
    "# cv_results = xgb.cv(dtrain=data_dmatrix, params=params, nfold=3,\n",
    "#                     num_boost_round=100,early_stopping_rounds=10,metrics=\"rmse\", as_pandas=True, seed=123)"
   ]
  },
  {
   "cell_type": "code",
   "execution_count": 25,
   "id": "c94b5710",
   "metadata": {},
   "outputs": [],
   "source": [
    "# cv_results.head()"
   ]
  },
  {
   "cell_type": "code",
   "execution_count": 26,
   "id": "92308f7a",
   "metadata": {},
   "outputs": [],
   "source": [
    "# print((cv_results[\"test-rmse-mean\"]).tail(1))"
   ]
  },
  {
   "cell_type": "code",
   "execution_count": 27,
   "id": "95fa5872",
   "metadata": {},
   "outputs": [],
   "source": [
    "# preds[:10]"
   ]
  },
  {
   "cell_type": "code",
   "execution_count": 28,
   "id": "1f076cec",
   "metadata": {},
   "outputs": [],
   "source": [
    "# y_test.head(10)"
   ]
  }
 ],
 "metadata": {
  "kernelspec": {
   "display_name": "Python 3 (ipykernel)",
   "language": "python",
   "name": "python3"
  },
  "language_info": {
   "codemirror_mode": {
    "name": "ipython",
    "version": 3
   },
   "file_extension": ".py",
   "mimetype": "text/x-python",
   "name": "python",
   "nbconvert_exporter": "python",
   "pygments_lexer": "ipython3",
   "version": "3.9.6"
  }
 },
 "nbformat": 4,
 "nbformat_minor": 5
}
